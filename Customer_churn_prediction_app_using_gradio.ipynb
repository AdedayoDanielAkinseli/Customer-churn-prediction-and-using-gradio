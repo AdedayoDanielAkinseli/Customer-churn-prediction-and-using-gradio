{
  "nbformat": 4,
  "nbformat_minor": 0,
  "metadata": {
    "colab": {
      "provenance": []
    },
    "kernelspec": {
      "name": "python3",
      "display_name": "Python 3"
    },
    "language_info": {
      "name": "python"
    }
  },
  "cells": [
    {
      "cell_type": "code",
      "execution_count": 6,
      "metadata": {
        "id": "Y-Q-i6IV5UyI"
      },
      "outputs": [],
      "source": [
        "import gradio as gr\n",
        "import joblib\n",
        "import numpy as np\n",
        "import pandas as pd\n",
        "from sklearn.preprocessing import OneHotEncoder, StandardScaler"
      ]
    },
    {
      "cell_type": "code",
      "source": [
        "# Load the trained model\n",
        "model = joblib.load(\"/content/drive/MyDrive/best_model.pkl\")\n",
        "geography_encoder = joblib.load(\"/content/drive/MyDrive/geography_encoder.pkl\")\n",
        "scaler = joblib.load(\"/content/drive/MyDrive/scaler.pkl\")"
      ],
      "metadata": {
        "id": "_B6XyOLt5YvP"
      },
      "execution_count": 7,
      "outputs": []
    },
    {
      "cell_type": "code",
      "source": [
        "def predict_churn(\n",
        "    credit_score,\n",
        "    geography,\n",
        "    gender,\n",
        "    age,\n",
        "    tenure,\n",
        "    balance,\n",
        "    num_of_products,\n",
        "    has_cr_card,\n",
        "    is_active_member,\n",
        "    estimated_salary\n",
        "):\n",
        "    # Prepare input data\n",
        "    input_data = pd.DataFrame([{\n",
        "        \"CreditScore\": credit_score,\n",
        "        \"Geography\": geography,\n",
        "        \"Gender\": 1 if gender == \"Male\" else 0,\n",
        "        \"Age\": age,\n",
        "        \"Tenure\": tenure,\n",
        "        \"Balance\": balance,\n",
        "        \"NumOfProducts\": num_of_products,\n",
        "        \"HasCrCard\": has_cr_card,\n",
        "        \"IsActiveMember\": is_active_member,\n",
        "        \"EstimatedSalary\": estimated_salary\n",
        "    }])\n",
        "\n",
        "    # Encode geography using pre-fitted encoder\n",
        "    geo_encoded = geography_encoder.transform(input_data[[\"Geography\"]])\n",
        "\n",
        "    # Scale numeric features using pre-fitted scaler\n",
        "    num_scaled = scaler.transform(input_data[[\n",
        "        \"CreditScore\", \"Gender\", \"Age\", \"Tenure\",\n",
        "        \"Balance\", \"NumOfProducts\", \"HasCrCard\",\n",
        "        \"IsActiveMember\", \"EstimatedSalary\"\n",
        "    ]])\n",
        "\n",
        "    # Combine encoded and scaled features\n",
        "    final_input = np.concatenate((geo_encoded, num_scaled), axis=1)\n",
        "\n",
        "    # Make prediction\n",
        "    prediction = model.predict(final_input)[0]\n",
        "    return \"Customer will exit (Churn)\" if prediction == 1 else \"Customer will stay\"\n"
      ],
      "metadata": {
        "id": "raWbMQhp5i1Z"
      },
      "execution_count": 8,
      "outputs": []
    },
    {
      "cell_type": "code",
      "source": [
        "# Gradio interface\n",
        "interface = gr.Interface(\n",
        "    fn=predict_churn,\n",
        "    inputs=[\n",
        "        gr.Number(label=\"Credit Score\"),\n",
        "        gr.Dropdown([\"France\", \"Spain\", \"Germany\"], label=\"Geography\"),\n",
        "        gr.Radio([\"Male\", \"Female\"], label=\"Gender\"),\n",
        "        gr.Number(label=\"Age\"),\n",
        "        gr.Number(label=\"Tenure\"),\n",
        "        gr.Number(label=\"Balance\"),\n",
        "        gr.Number(label=\"Number of Products\"),\n",
        "        gr.Checkbox(label=\"Has Credit Card\"),\n",
        "        gr.Checkbox(label=\"Is Active Member\"),\n",
        "        gr.Number(label=\"Estimated Salary\"),\n",
        "    ],\n",
        "    outputs=gr.Textbox(label=\"Prediction Result\"),\n",
        "    title=\"Customer Churn Prediction\",\n",
        "    description=\"Enter customer information to predict whether they will exit the bank.\"\n",
        ")"
      ],
      "metadata": {
        "id": "qMjvCMMK_XvL"
      },
      "execution_count": 9,
      "outputs": []
    },
    {
      "cell_type": "code",
      "source": [
        "# Launch the app\n",
        "interface.launch(share=True)"
      ],
      "metadata": {
        "colab": {
          "base_uri": "https://localhost:8080/",
          "height": 610
        },
        "id": "ldvKSRN1_tSv",
        "outputId": "565a097d-931d-483e-af10-1e42cee07430"
      },
      "execution_count": 10,
      "outputs": [
        {
          "output_type": "stream",
          "name": "stdout",
          "text": [
            "Colab notebook detected. To show errors in colab notebook, set debug=True in launch()\n",
            "* Running on public URL: https://80286628e4aae8e157.gradio.live\n",
            "\n",
            "This share link expires in 1 week. For free permanent hosting and GPU upgrades, run `gradio deploy` from the terminal in the working directory to deploy to Hugging Face Spaces (https://huggingface.co/spaces)\n"
          ]
        },
        {
          "output_type": "display_data",
          "data": {
            "text/plain": [
              "<IPython.core.display.HTML object>"
            ],
            "text/html": [
              "<div><iframe src=\"https://80286628e4aae8e157.gradio.live\" width=\"100%\" height=\"500\" allow=\"autoplay; camera; microphone; clipboard-read; clipboard-write;\" frameborder=\"0\" allowfullscreen></iframe></div>"
            ]
          },
          "metadata": {}
        },
        {
          "output_type": "execute_result",
          "data": {
            "text/plain": []
          },
          "metadata": {},
          "execution_count": 10
        }
      ]
    }
  ]
}